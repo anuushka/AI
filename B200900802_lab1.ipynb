{
 "cells": [
  {
   "cell_type": "code",
   "execution_count": 140,
   "id": "f5d20a4f",
   "metadata": {},
   "outputs": [],
   "source": [
    "#Practice"
   ]
  },
  {
   "cell_type": "code",
   "execution_count": 141,
   "id": "7f23211e",
   "metadata": {},
   "outputs": [],
   "source": [
    "class Queue:\n",
    "    def __init__(self):\n",
    "        self._list = [] # анхны утга\n",
    "    def enqueue(self, element):\n",
    "        self._list.append(element)\n",
    "    def dequeue(self):\n",
    "        return self._list.pop(0)\n",
    "    def __len__(self):\n",
    "        return len(self._list)\n",
    "    def is_empty(self):\n",
    "        return self.__len__() == 0\n",
    "    def peek(self):\n",
    "        return self._list[0]\n",
    "    def __str__(self):\n",
    "        return 'Queue: ' + str(self._list)"
   ]
  },
  {
   "cell_type": "code",
   "execution_count": 142,
   "id": "4e29f551",
   "metadata": {},
   "outputs": [],
   "source": [
    "queue = Queue()\n",
    "queue.enqueue('T1')\n",
    "queue.enqueue ('T2')\n",
    "queue.enqueue('T3') "
   ]
  },
  {
   "cell_type": "code",
   "execution_count": 143,
   "id": "40487302",
   "metadata": {},
   "outputs": [
    {
     "name": "stdout",
     "output_type": "stream",
     "text": [
      "queue: Queue: ['T1', 'T2', 'T3']\n"
     ]
    }
   ],
   "source": [
    "print('queue:', queue)\n"
   ]
  },
  {
   "cell_type": "code",
   "execution_count": 144,
   "id": "a36cfd04",
   "metadata": {},
   "outputs": [
    {
     "name": "stdout",
     "output_type": "stream",
     "text": [
      "queue.is_empty(): False\n"
     ]
    }
   ],
   "source": [
    "print('queue.is_empty():', queue.is_empty())\n"
   ]
  },
  {
   "cell_type": "code",
   "execution_count": 145,
   "id": "1fda5adf",
   "metadata": {},
   "outputs": [
    {
     "name": "stdout",
     "output_type": "stream",
     "text": [
      "queue.len (): 3\n"
     ]
    }
   ],
   "source": [
    "print('queue.len ():', queue.__len__()) \n"
   ]
  },
  {
   "cell_type": "code",
   "execution_count": 146,
   "id": "f538ef1c",
   "metadata": {},
   "outputs": [
    {
     "name": "stdout",
     "output_type": "stream",
     "text": [
      "queue.peek (): T1\n"
     ]
    }
   ],
   "source": [
    "print('queue.peek ():', queue.peek()) \n"
   ]
  },
  {
   "cell_type": "code",
   "execution_count": 147,
   "id": "27c9df4f",
   "metadata": {},
   "outputs": [
    {
     "name": "stdout",
     "output_type": "stream",
     "text": [
      "queue.dequeue(): T1\n"
     ]
    }
   ],
   "source": [
    "print('queue.dequeue():', queue.dequeue()) \n"
   ]
  },
  {
   "cell_type": "code",
   "execution_count": 148,
   "id": "a99ca336",
   "metadata": {
    "scrolled": true
   },
   "outputs": [
    {
     "name": "stdout",
     "output_type": "stream",
     "text": [
      "queue: Queue: ['T2', 'T3']\n"
     ]
    }
   ],
   "source": [
    "print('queue:', queue)\n"
   ]
  },
  {
   "cell_type": "code",
   "execution_count": 149,
   "id": "baef3e11",
   "metadata": {},
   "outputs": [
    {
     "name": "stdout",
     "output_type": "stream",
     "text": [
      "Queue: ['T2', 'T3']\n"
     ]
    }
   ],
   "source": [
    "print(queue.__str__())"
   ]
  },
  {
   "cell_type": "code",
   "execution_count": 150,
   "id": "4d448ea1",
   "metadata": {},
   "outputs": [],
   "source": [
    "#Task 1\n",
    "class Stack:\n",
    "    def __init__(self):\n",
    "        self.list = []\n",
    "    def is_empty(self):\n",
    "        return self.list == []\n",
    "    def length(self):\n",
    "        return len(self.list)\n",
    "    def top(self):\n",
    "        if(self.is_empty()):\n",
    "            raise Empty(\"Stack is empty\")\n",
    "        else:\n",
    "            return self.list[-1]\n",
    "    def pop(self):\n",
    "        if self.is_empty():\n",
    "            raise Empty('stack is empty')\n",
    "        else:\n",
    "            return self.list.pop()\n",
    "    def push(self, item):\n",
    "        self.list.append(item)\n",
    "    def stack(self):\n",
    "        return 'Stack: ' + str(self.list)\n"
   ]
  },
  {
   "cell_type": "code",
   "execution_count": 151,
   "id": "fc968f3a",
   "metadata": {},
   "outputs": [],
   "source": [
    "stack = Stack()\n",
    "stack.push('1')\n",
    "stack.push('2')\n",
    "stack.push('3')"
   ]
  },
  {
   "cell_type": "code",
   "execution_count": 152,
   "id": "588e916e",
   "metadata": {},
   "outputs": [
    {
     "name": "stdout",
     "output_type": "stream",
     "text": [
      "Stack: ['1', '2', '3']\n"
     ]
    }
   ],
   "source": [
    "print(stack.stack())"
   ]
  },
  {
   "cell_type": "code",
   "execution_count": 153,
   "id": "4a4a0577",
   "metadata": {},
   "outputs": [
    {
     "name": "stdout",
     "output_type": "stream",
     "text": [
      "3\n"
     ]
    }
   ],
   "source": [
    "print(stack.pop())"
   ]
  },
  {
   "cell_type": "code",
   "execution_count": 154,
   "id": "6ab79335",
   "metadata": {},
   "outputs": [
    {
     "name": "stdout",
     "output_type": "stream",
     "text": [
      "2\n"
     ]
    }
   ],
   "source": [
    "print(stack.length())"
   ]
  },
  {
   "cell_type": "code",
   "execution_count": 155,
   "id": "f0d8be06",
   "metadata": {},
   "outputs": [
    {
     "name": "stdout",
     "output_type": "stream",
     "text": [
      "2\n"
     ]
    }
   ],
   "source": [
    "print(stack.top())"
   ]
  },
  {
   "cell_type": "code",
   "execution_count": 156,
   "id": "e17adb7b",
   "metadata": {},
   "outputs": [
    {
     "name": "stdout",
     "output_type": "stream",
     "text": [
      "False\n"
     ]
    }
   ],
   "source": [
    "print(stack.is_empty())"
   ]
  },
  {
   "cell_type": "code",
   "execution_count": 157,
   "id": "96db7b5c",
   "metadata": {},
   "outputs": [
    {
     "name": "stdout",
     "output_type": "stream",
     "text": [
      "['1', '2', '3', '4']\n",
      "['4', '3', '2', '1']\n"
     ]
    }
   ],
   "source": [
    "#Task 2\n",
    "from collections import deque\n",
    "   \n",
    "q = deque()\n",
    "q.append('1')\n",
    "q.append('3')\n",
    "q.append('2')\n",
    "q.append('4')\n",
    "li = list(q)\n",
    "li.sort()\n",
    "print(li)\n",
    "li.sort(reverse=True)\n",
    "print(li)\n"
   ]
  },
  {
   "cell_type": "code",
   "execution_count": 158,
   "id": "c70917c8",
   "metadata": {},
   "outputs": [
    {
     "name": "stdout",
     "output_type": "stream",
     "text": [
      "[6, 12, 18, 4, 12, 20, 28]\n"
     ]
    }
   ],
   "source": [
    "#Task 3\n",
    "listOne = [3, 6, 9, 12, 15, 18, 21]\n",
    "listTwo = [4, 8, 12, 16, 20, 24, 28]\n",
    "res =  listOne[1::2] + listTwo[::2] \n",
    "print(res)"
   ]
  }
 ],
 "metadata": {
  "kernelspec": {
   "display_name": "Python 3 (ipykernel)",
   "language": "python",
   "name": "python3"
  },
  "language_info": {
   "codemirror_mode": {
    "name": "ipython",
    "version": 3
   },
   "file_extension": ".py",
   "mimetype": "text/x-python",
   "name": "python",
   "nbconvert_exporter": "python",
   "pygments_lexer": "ipython3",
   "version": "3.9.7"
  }
 },
 "nbformat": 4,
 "nbformat_minor": 5
}
